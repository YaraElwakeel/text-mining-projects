{
 "cells": [
  {
   "cell_type": "markdown",
   "metadata": {},
   "source": [
    "# Submission - Exercises sheet 2\n",
    "MA-INF 4236 - Advanced Methods for Text Mining, So24<br>\n",
    "Yara Elwakeel 50135730<br>\n",
    "Aksa Aksa 50146305<br>\n",
    "Sadia Naseer 50194450<br>\n",
    "Ali Ather 50194294<br>\n",
    "Affan Zafar 50167759<br>\n",
    "june 19, 2024<br>"
   ]
  },
  {
   "cell_type": "markdown",
   "metadata": {},
   "source": [
    "## 1)"
   ]
  },
  {
   "cell_type": "markdown",
   "metadata": {},
   "source": [
    "## 2)"
   ]
  },
  {
   "cell_type": "markdown",
   "metadata": {},
   "source": [
    "## 3)"
   ]
  },
  {
   "cell_type": "markdown",
   "metadata": {},
   "source": [
    "## 4) "
   ]
  },
  {
   "cell_type": "markdown",
   "metadata": {},
   "source": [
    "## 5) "
   ]
  },
  {
   "cell_type": "markdown",
   "metadata": {},
   "source": [
    "## 6) "
   ]
  },
  {
   "cell_type": "code",
   "execution_count": null,
   "metadata": {},
   "outputs": [],
   "source": [
    "# Install required packages\n",
    "!pip install -q sentence-transformers datasets"
   ]
  },
  {
   "cell_type": "code",
   "execution_count": 3,
   "metadata": {},
   "outputs": [],
   "source": [
    "from sentence_transformers import SentenceTransformer, util\n",
    "from datasets import load_dataset\n",
    "import numpy as np\n",
    "\n",
    "# Load the dataset\n",
    "dataset = load_dataset('mt0rm0/movie_descriptors_small')\n",
    "\n",
    "# print(dataset['train'])\n",
    "# Extract movie titles and synopses\n",
    "movie_titles = [entry['title'] for entry in dataset['train']]\n",
    "movie_synopses = [entry['overview'] for entry in dataset['train']]"
   ]
  },
  {
   "cell_type": "code",
   "execution_count": 4,
   "metadata": {},
   "outputs": [
    {
     "name": "stderr",
     "output_type": "stream",
     "text": [
      "c:\\Users\\yarae\\AppData\\Local\\Programs\\Python\\Python312\\Lib\\site-packages\\huggingface_hub\\file_download.py:1132: FutureWarning: `resume_download` is deprecated and will be removed in version 1.0.0. Downloads always resume when possible. If you want to force a new download, use `force_download=True`.\n",
      "  warnings.warn(\n"
     ]
    }
   ],
   "source": [
    "# Load the SentenceBERT model\n",
    "model = SentenceTransformer('all-MiniLM-L6-v2')\n",
    "\n",
    "# Compute embeddings for all movie synopses\n",
    "synopsis_embeddings = model.encode(movie_synopses, convert_to_tensor=True)"
   ]
  },
  {
   "cell_type": "code",
   "execution_count": 5,
   "metadata": {},
   "outputs": [],
   "source": [
    "def recommend_movies(query, top_k=5):\n",
    "    # Compute the embedding for the query\n",
    "    query_embedding = model.encode(query, convert_to_tensor=True)\n",
    "    \n",
    "    # Compute cosine similarities between the query embedding and all synopsis embeddings\n",
    "    similarities = util.pytorch_cos_sim(query_embedding, synopsis_embeddings)[0]\n",
    "    \n",
    "    # Get the indices of the top_k most similar synopses\n",
    "    top_k_indices = similarities.topk(k=top_k).indices\n",
    "    \n",
    "    # Retrieve and return the corresponding movie titles\n",
    "    recommended_movies = [movie_titles[idx] for idx in top_k_indices]\n",
    "    return recommended_movies\n"
   ]
  },
  {
   "cell_type": "code",
   "execution_count": 6,
   "metadata": {},
   "outputs": [
    {
     "name": "stdout",
     "output_type": "stream",
     "text": [
      "Query: What movie is set in ancient Rome (similar to Gladiator)?\n",
      "1. Agora\n",
      "2. Gladiator\n",
      "3. Cleopatra\n",
      "4. La Dolce Vita\n",
      "5. The Man Who Knew Too Much\n",
      "\n",
      "\n",
      "Query: Please recommend me some movies that are both romantic and funny.\n",
      "1. About Last Night\n",
      "2. Midnight in Paris\n",
      "3. Hysteria\n",
      "4. Closer\n",
      "5. Last Night\n",
      "\n",
      "\n",
      "Query: Which movies are about astronauts and starships?\n",
      "1. Forbidden Planet\n",
      "2. Galaxy Quest\n",
      "3. You Only Live Twice\n",
      "4. Treasure Planet\n",
      "5. The Right Stuff\n",
      "\n",
      "\n",
      "Query: Looking for a thrilling heist movie.\n",
      "1. The Getaway\n",
      "2. The Collector\n",
      "3. Drive\n",
      "4. Baby Driver\n",
      "5. The Score\n",
      "\n",
      "\n",
      "Query: Can you suggest a movie with a strong female lead?\n",
      "1. Swimming Pool\n",
      "2. To Die For\n",
      "3. Thelma & Louise\n",
      "4. The Young Victoria\n",
      "5. Under the Skin\n",
      "\n",
      "\n",
      "Query: I want to watch a movie about artificial intelligence.\n",
      "1. Pi\n",
      "2. Ex Machina\n",
      "3. King Kong\n",
      "4. Ghost in the Shell 2: Innocence\n",
      "5. Gattaca\n",
      "\n",
      "\n",
      "Query: Recommend me some heartwarming family movies.\n",
      "1. Midnight in Paris\n",
      "2. This Is Where I Leave You\n",
      "3. Legends of the Fall\n",
      "4. Scary Movie\n",
      "5. The Proposition\n",
      "\n",
      "\n",
      "Query: What's a good mystery film with lots of twists?\n",
      "1. To Catch a Thief\n",
      "2. Scary Movie\n",
      "3. The Fog\n",
      "4. Margin Call\n",
      "5. Insidious: Chapter 3\n",
      "\n",
      "\n",
      "Query: Suggest some films based on true stories.\n",
      "1. Ed Wood\n",
      "2. Schindler's List\n",
      "3. Notting Hill\n",
      "4. Scary Movie\n",
      "5. Paris, je t'aime\n",
      "\n",
      "\n",
      "Query: Any movies with epic fantasy battles?\n",
      "1. Max & Leon\n",
      "2. How to Train Your Dragon 2\n",
      "3. Hellboy II: The Golden Army\n",
      "4. Creepshow\n",
      "5. The Horse Whisperer\n",
      "\n",
      "\n"
     ]
    }
   ],
   "source": [
    "# Example queries\n",
    "queries = [\n",
    "    \"What movie is set in ancient Rome (similar to Gladiator)?\",\n",
    "    \"Please recommend me some movies that are both romantic and funny.\",\n",
    "    \"Which movies are about astronauts and starships?\",\n",
    "    \"Looking for a thrilling heist movie.\",\n",
    "    \"Can you suggest a movie with a strong female lead?\",\n",
    "    \"I want to watch a movie about artificial intelligence.\",\n",
    "    \"Recommend me some heartwarming family movies.\",\n",
    "    \"What's a good mystery film with lots of twists?\",\n",
    "    \"Suggest some films based on true stories.\",\n",
    "    \"Any movies with epic fantasy battles?\"\n",
    "]\n",
    "\n",
    "# Test the system\n",
    "for query in queries:\n",
    "    print(f\"Query: {query}\")\n",
    "    recommendations = recommend_movies(query)\n",
    "    for idx, movie in enumerate(recommendations):\n",
    "        print(f\"{idx+1}. {movie}\")\n",
    "    print(\"\\n\")\n"
   ]
  },
  {
   "cell_type": "code",
   "execution_count": null,
   "metadata": {},
   "outputs": [],
   "source": []
  }
 ],
 "metadata": {
  "language_info": {
   "name": "python"
  }
 },
 "nbformat": 4,
 "nbformat_minor": 2
}
