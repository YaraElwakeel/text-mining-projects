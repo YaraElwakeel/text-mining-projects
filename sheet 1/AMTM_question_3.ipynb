{
  "nbformat": 4,
  "nbformat_minor": 0,
  "metadata": {
    "colab": {
      "provenance": []
    },
    "kernelspec": {
      "name": "python3",
      "display_name": "Python 3"
    },
    "language_info": {
      "name": "python"
    }
  },
  "cells": [
    {
      "cell_type": "markdown",
      "source": [
        "# 3.1 Model Formulation"
      ],
      "metadata": {
        "id": "Gw1mcJt58Lg4"
      }
    },
    {
      "cell_type": "markdown",
      "source": [
        "We have three variable/features in predicting whether an email is spam or not: `Contacted`, `Colleague`, and `Neither`. Since `Neither` is the base level, it is not included as a separate variable.\n",
        "So,\n",
        "\n",
        "\\begin{equation}\n",
        "X =  [x_1, x_2]   \n",
        "\\end{equation}\n",
        "\n",
        "Logistic Regression Equation:\n",
        "\\begin{equation}\n",
        "ln(p/1-p) =  \\beta_0 + \\beta_1x_1 + \\beta_2x_2   \n",
        "\\end{equation}\n",
        "\n",
        "where,\n",
        "\n",
        "β₀ is the intercept\n",
        "\n",
        "β₁ is the coefficient for emails from colleague relative to the base level `Neither`\n",
        "\n",
        "β₂ is the coefficient for emails from contacted non-colleagues relative to the base level `Neither`\n",
        "\n",
        "We have the following three cases:\n",
        "\n",
        "1.   Colleague Case:\n",
        "\\begin{aligned}\n",
        "x_1 = 1\\\\\n",
        "x_2 = 0\n",
        "\\end{aligned}\n",
        "then\n",
        "\n",
        "\\begin{aligned}\n",
        "ln(p/1-p) =  \\beta_0 + \\beta_1(1) + \\beta_2(0)\\\\\n",
        "ln(p/1-p) =  \\beta_0 + \\beta_1\n",
        "\\end{aligned}\n",
        "\n",
        "\n",
        "2.   Contacted Case:\n",
        "\\begin{aligned}\n",
        "x_1 = 0\\\\\n",
        "x_2 = 1\n",
        "\\end{aligned}\n",
        "then\n",
        "\n",
        "\\begin{aligned}\n",
        "ln(p/1-p) =  \\beta_0 + \\beta_1(0) + \\beta_2(1)\\\\\n",
        "ln(p/1-p) =  \\beta_0 + \\beta_2\n",
        "\\end{aligned}\n",
        "\n",
        "\n",
        "3.  Neither case\n",
        "\\begin{aligned}\n",
        "x_1 = 0\\\\\n",
        "x_2 = 0\n",
        "\\end{aligned}\n",
        "then\n",
        "\n",
        "\\begin{aligned}\n",
        "ln(p/1-p) =  \\beta_0 + \\beta_1(0) + \\beta_2(0)\\\\\n",
        "ln(p/1-p) =  \\beta_0\n",
        "\\end{aligned}"
      ],
      "metadata": {
        "id": "KvIzmzXX3Wpc"
      }
    },
    {
      "cell_type": "markdown",
      "source": [
        "# 3.2 Calculating Coefficients"
      ],
      "metadata": {
        "id": "ERMHI34SgYuI"
      }
    },
    {
      "cell_type": "markdown",
      "source": [
        "Coefficients:\n",
        "\\begin{equation}\n",
        "\\beta_0, \\beta_1, \\beta_2\n",
        "\\end{equation}\n",
        "\n",
        "The values of the parameters can be estimated using the Log-Likelihood, which we want to maximize:\n",
        "\n",
        "\n",
        "\\begin{equation}\n",
        "l(y, x, \\beta) =  \\sum_{i}^n y_ilnp_i - (1-y_i)ln(1-p_i)\n",
        "\\end{equation}\n",
        "\n",
        "Since the closed form solution for the logistic regression is not possible because the likelihood equations involve nonlinear functions of the parameters, we will use the numerical method to estimate the parameters. For this case, we will use the Newton-CG (conjugate gradient), an adaption/extension of the Newton-Raphson method."
      ],
      "metadata": {
        "id": "kuhDU4O0RT4O"
      }
    },
    {
      "cell_type": "code",
      "execution_count": 14,
      "metadata": {
        "colab": {
          "base_uri": "https://localhost:8080/",
          "height": 0
        },
        "id": "LlCGLWJ6Q_TZ",
        "outputId": "17cfc615-281f-4118-b175-ad6f8a548737"
      },
      "outputs": [
        {
          "output_type": "stream",
          "name": "stdout",
          "text": [
            "\t    Coefficients: ['Intercept', 'Colleague', 'Contacted']\n",
            "Values of the Coefficients: [-0.6820826  -4.43119538 -2.090507  ]\n"
          ]
        }
      ],
      "source": [
        "import numpy as np\n",
        "import pandas as pd\n",
        "from scipy.optimize import minimize\n",
        "\n",
        "# Generate the df from the given frequency table\n",
        "# since neither is base the variable, it is added implicitly, i.e., for neither both colleague and contacted will be 0\n",
        "data = {\n",
        "    'Colleague': [1]*11 + [1]*1829 + [0]*98 + [0]*1568 + [0]*999 + [0]*1976,\n",
        "    'Contacted': [0]*11 + [0]*1829 + [1]*98 + [1]*1568 + [0]*999 + [0]*1976,\n",
        "    'Spam': [1]*11 + [0]*1829 + [1]*98 + [0]*1568 + [1]*999 + [0]*1976\n",
        "}\n",
        "df = pd.DataFrame(data)\n",
        "\n",
        "df['Intercept'] = 1\n",
        "\n",
        "#columns to be used / model parameters\n",
        "columns = ['Intercept', 'Colleague', 'Contacted']\n",
        "\n",
        "X = df[columns].values\n",
        "y = df['Spam'].values\n",
        "\n",
        "def logistic_function(z):\n",
        "    return 1 / (1 + np.exp(-z))\n",
        "\n",
        "def log_likelihood(beta, X, y):\n",
        "    z = np.dot(X, beta)\n",
        "    return np.sum(y * np.log(logistic_function(z)) + (1 - y) * np.log(1 - logistic_function(z)))\n",
        "\n",
        "def gradient(beta, X, y):\n",
        "    z = np.dot(X, beta)\n",
        "    predictions = logistic_function(z)\n",
        "    return np.dot(X.T, y - predictions)\n",
        "\n",
        "# matrix of second derivates\n",
        "def hessian(beta, X, y):\n",
        "    z = np.dot(X, beta)\n",
        "    predictions = logistic_function(z)\n",
        "    weight_matrix = predictions * (1 - predictions)\n",
        "    return -np.dot(X.T, weight_matrix[:, np.newaxis] * X)\n",
        "\n",
        "# initial parameters estimates\n",
        "initial_params = np.zeros(X.shape[1])\n",
        "\n",
        "# Optimize by maximizing the log likelihood\n",
        "output = minimize(fun=lambda beta, X, y: -log_likelihood(beta, X, y),\n",
        "                  x0=initial_params,\n",
        "                  args=(X, y),\n",
        "                  method='Newton-CG',\n",
        "                  jac=lambda beta, X, y: -gradient(beta, X, y),\n",
        "                  hess=lambda beta, X, y: hessian(beta, X, y))\n",
        "print(\"\\t    Coefficients:\", [\"Intercept\", \"Colleague\", \"Contacted\"])\n",
        "print(\"Values of the Coefficients:\", output.x)"
      ]
    },
    {
      "cell_type": "markdown",
      "source": [
        "# 3.3 Implementation"
      ],
      "metadata": {
        "id": "rVengV7n3Eny"
      }
    },
    {
      "cell_type": "code",
      "source": [
        "import numpy as np\n",
        "import pandas as pd\n",
        "from sklearn.model_selection import train_test_split\n",
        "from sklearn.linear_model import LogisticRegression\n",
        "from sklearn.metrics import accuracy_score, recall_score, precision_score, f1_score, confusion_matrix\n",
        "import seaborn as sns\n",
        "import matplotlib.pyplot as plt"
      ],
      "metadata": {
        "id": "1T_JIxm1akcG"
      },
      "execution_count": 15,
      "outputs": []
    },
    {
      "cell_type": "code",
      "source": [
        "# Generate the df from the given frequency table\n",
        "# since neither is base the variable, it is added implicitly, i.e., for neither both colleague and contacted will be 0\n",
        "data = {\n",
        "    'Colleague': [1]*11 + [1]*1829 + [0]*98 + [0]*1568 + [0]*999 + [0]*1976,\n",
        "    'Contacted': [0]*11 + [0]*1829 + [1]*98 + [1]*1568 + [0]*999 + [0]*1976,\n",
        "    'Spam': [1]*11 + [0]*1829 + [1]*98 + [0]*1568 + [1]*999 + [0]*1976\n",
        "}\n",
        "df = pd.DataFrame(data)\n",
        "df.head()"
      ],
      "metadata": {
        "colab": {
          "base_uri": "https://localhost:8080/",
          "height": 206
        },
        "id": "4hRylq7ca0XF",
        "outputId": "687df2c1-2774-4493-cf64-399e50696e7d"
      },
      "execution_count": 16,
      "outputs": [
        {
          "output_type": "execute_result",
          "data": {
            "text/plain": [
              "   Colleague  Contacted  Spam\n",
              "0          1          0     1\n",
              "1          1          0     1\n",
              "2          1          0     1\n",
              "3          1          0     1\n",
              "4          1          0     1"
            ],
            "text/html": [
              "\n",
              "  <div id=\"df-683a694b-1f91-471e-b37b-66e5aafb389d\" class=\"colab-df-container\">\n",
              "    <div>\n",
              "<style scoped>\n",
              "    .dataframe tbody tr th:only-of-type {\n",
              "        vertical-align: middle;\n",
              "    }\n",
              "\n",
              "    .dataframe tbody tr th {\n",
              "        vertical-align: top;\n",
              "    }\n",
              "\n",
              "    .dataframe thead th {\n",
              "        text-align: right;\n",
              "    }\n",
              "</style>\n",
              "<table border=\"1\" class=\"dataframe\">\n",
              "  <thead>\n",
              "    <tr style=\"text-align: right;\">\n",
              "      <th></th>\n",
              "      <th>Colleague</th>\n",
              "      <th>Contacted</th>\n",
              "      <th>Spam</th>\n",
              "    </tr>\n",
              "  </thead>\n",
              "  <tbody>\n",
              "    <tr>\n",
              "      <th>0</th>\n",
              "      <td>1</td>\n",
              "      <td>0</td>\n",
              "      <td>1</td>\n",
              "    </tr>\n",
              "    <tr>\n",
              "      <th>1</th>\n",
              "      <td>1</td>\n",
              "      <td>0</td>\n",
              "      <td>1</td>\n",
              "    </tr>\n",
              "    <tr>\n",
              "      <th>2</th>\n",
              "      <td>1</td>\n",
              "      <td>0</td>\n",
              "      <td>1</td>\n",
              "    </tr>\n",
              "    <tr>\n",
              "      <th>3</th>\n",
              "      <td>1</td>\n",
              "      <td>0</td>\n",
              "      <td>1</td>\n",
              "    </tr>\n",
              "    <tr>\n",
              "      <th>4</th>\n",
              "      <td>1</td>\n",
              "      <td>0</td>\n",
              "      <td>1</td>\n",
              "    </tr>\n",
              "  </tbody>\n",
              "</table>\n",
              "</div>\n",
              "    <div class=\"colab-df-buttons\">\n",
              "\n",
              "  <div class=\"colab-df-container\">\n",
              "    <button class=\"colab-df-convert\" onclick=\"convertToInteractive('df-683a694b-1f91-471e-b37b-66e5aafb389d')\"\n",
              "            title=\"Convert this dataframe to an interactive table.\"\n",
              "            style=\"display:none;\">\n",
              "\n",
              "  <svg xmlns=\"http://www.w3.org/2000/svg\" height=\"24px\" viewBox=\"0 -960 960 960\">\n",
              "    <path d=\"M120-120v-720h720v720H120Zm60-500h600v-160H180v160Zm220 220h160v-160H400v160Zm0 220h160v-160H400v160ZM180-400h160v-160H180v160Zm440 0h160v-160H620v160ZM180-180h160v-160H180v160Zm440 0h160v-160H620v160Z\"/>\n",
              "  </svg>\n",
              "    </button>\n",
              "\n",
              "  <style>\n",
              "    .colab-df-container {\n",
              "      display:flex;\n",
              "      gap: 12px;\n",
              "    }\n",
              "\n",
              "    .colab-df-convert {\n",
              "      background-color: #E8F0FE;\n",
              "      border: none;\n",
              "      border-radius: 50%;\n",
              "      cursor: pointer;\n",
              "      display: none;\n",
              "      fill: #1967D2;\n",
              "      height: 32px;\n",
              "      padding: 0 0 0 0;\n",
              "      width: 32px;\n",
              "    }\n",
              "\n",
              "    .colab-df-convert:hover {\n",
              "      background-color: #E2EBFA;\n",
              "      box-shadow: 0px 1px 2px rgba(60, 64, 67, 0.3), 0px 1px 3px 1px rgba(60, 64, 67, 0.15);\n",
              "      fill: #174EA6;\n",
              "    }\n",
              "\n",
              "    .colab-df-buttons div {\n",
              "      margin-bottom: 4px;\n",
              "    }\n",
              "\n",
              "    [theme=dark] .colab-df-convert {\n",
              "      background-color: #3B4455;\n",
              "      fill: #D2E3FC;\n",
              "    }\n",
              "\n",
              "    [theme=dark] .colab-df-convert:hover {\n",
              "      background-color: #434B5C;\n",
              "      box-shadow: 0px 1px 3px 1px rgba(0, 0, 0, 0.15);\n",
              "      filter: drop-shadow(0px 1px 2px rgba(0, 0, 0, 0.3));\n",
              "      fill: #FFFFFF;\n",
              "    }\n",
              "  </style>\n",
              "\n",
              "    <script>\n",
              "      const buttonEl =\n",
              "        document.querySelector('#df-683a694b-1f91-471e-b37b-66e5aafb389d button.colab-df-convert');\n",
              "      buttonEl.style.display =\n",
              "        google.colab.kernel.accessAllowed ? 'block' : 'none';\n",
              "\n",
              "      async function convertToInteractive(key) {\n",
              "        const element = document.querySelector('#df-683a694b-1f91-471e-b37b-66e5aafb389d');\n",
              "        const dataTable =\n",
              "          await google.colab.kernel.invokeFunction('convertToInteractive',\n",
              "                                                    [key], {});\n",
              "        if (!dataTable) return;\n",
              "\n",
              "        const docLinkHtml = 'Like what you see? Visit the ' +\n",
              "          '<a target=\"_blank\" href=https://colab.research.google.com/notebooks/data_table.ipynb>data table notebook</a>'\n",
              "          + ' to learn more about interactive tables.';\n",
              "        element.innerHTML = '';\n",
              "        dataTable['output_type'] = 'display_data';\n",
              "        await google.colab.output.renderOutput(dataTable, element);\n",
              "        const docLink = document.createElement('div');\n",
              "        docLink.innerHTML = docLinkHtml;\n",
              "        element.appendChild(docLink);\n",
              "      }\n",
              "    </script>\n",
              "  </div>\n",
              "\n",
              "\n",
              "<div id=\"df-c438f434-7376-47e3-ade1-8319552260bc\">\n",
              "  <button class=\"colab-df-quickchart\" onclick=\"quickchart('df-c438f434-7376-47e3-ade1-8319552260bc')\"\n",
              "            title=\"Suggest charts\"\n",
              "            style=\"display:none;\">\n",
              "\n",
              "<svg xmlns=\"http://www.w3.org/2000/svg\" height=\"24px\"viewBox=\"0 0 24 24\"\n",
              "     width=\"24px\">\n",
              "    <g>\n",
              "        <path d=\"M19 3H5c-1.1 0-2 .9-2 2v14c0 1.1.9 2 2 2h14c1.1 0 2-.9 2-2V5c0-1.1-.9-2-2-2zM9 17H7v-7h2v7zm4 0h-2V7h2v10zm4 0h-2v-4h2v4z\"/>\n",
              "    </g>\n",
              "</svg>\n",
              "  </button>\n",
              "\n",
              "<style>\n",
              "  .colab-df-quickchart {\n",
              "      --bg-color: #E8F0FE;\n",
              "      --fill-color: #1967D2;\n",
              "      --hover-bg-color: #E2EBFA;\n",
              "      --hover-fill-color: #174EA6;\n",
              "      --disabled-fill-color: #AAA;\n",
              "      --disabled-bg-color: #DDD;\n",
              "  }\n",
              "\n",
              "  [theme=dark] .colab-df-quickchart {\n",
              "      --bg-color: #3B4455;\n",
              "      --fill-color: #D2E3FC;\n",
              "      --hover-bg-color: #434B5C;\n",
              "      --hover-fill-color: #FFFFFF;\n",
              "      --disabled-bg-color: #3B4455;\n",
              "      --disabled-fill-color: #666;\n",
              "  }\n",
              "\n",
              "  .colab-df-quickchart {\n",
              "    background-color: var(--bg-color);\n",
              "    border: none;\n",
              "    border-radius: 50%;\n",
              "    cursor: pointer;\n",
              "    display: none;\n",
              "    fill: var(--fill-color);\n",
              "    height: 32px;\n",
              "    padding: 0;\n",
              "    width: 32px;\n",
              "  }\n",
              "\n",
              "  .colab-df-quickchart:hover {\n",
              "    background-color: var(--hover-bg-color);\n",
              "    box-shadow: 0 1px 2px rgba(60, 64, 67, 0.3), 0 1px 3px 1px rgba(60, 64, 67, 0.15);\n",
              "    fill: var(--button-hover-fill-color);\n",
              "  }\n",
              "\n",
              "  .colab-df-quickchart-complete:disabled,\n",
              "  .colab-df-quickchart-complete:disabled:hover {\n",
              "    background-color: var(--disabled-bg-color);\n",
              "    fill: var(--disabled-fill-color);\n",
              "    box-shadow: none;\n",
              "  }\n",
              "\n",
              "  .colab-df-spinner {\n",
              "    border: 2px solid var(--fill-color);\n",
              "    border-color: transparent;\n",
              "    border-bottom-color: var(--fill-color);\n",
              "    animation:\n",
              "      spin 1s steps(1) infinite;\n",
              "  }\n",
              "\n",
              "  @keyframes spin {\n",
              "    0% {\n",
              "      border-color: transparent;\n",
              "      border-bottom-color: var(--fill-color);\n",
              "      border-left-color: var(--fill-color);\n",
              "    }\n",
              "    20% {\n",
              "      border-color: transparent;\n",
              "      border-left-color: var(--fill-color);\n",
              "      border-top-color: var(--fill-color);\n",
              "    }\n",
              "    30% {\n",
              "      border-color: transparent;\n",
              "      border-left-color: var(--fill-color);\n",
              "      border-top-color: var(--fill-color);\n",
              "      border-right-color: var(--fill-color);\n",
              "    }\n",
              "    40% {\n",
              "      border-color: transparent;\n",
              "      border-right-color: var(--fill-color);\n",
              "      border-top-color: var(--fill-color);\n",
              "    }\n",
              "    60% {\n",
              "      border-color: transparent;\n",
              "      border-right-color: var(--fill-color);\n",
              "    }\n",
              "    80% {\n",
              "      border-color: transparent;\n",
              "      border-right-color: var(--fill-color);\n",
              "      border-bottom-color: var(--fill-color);\n",
              "    }\n",
              "    90% {\n",
              "      border-color: transparent;\n",
              "      border-bottom-color: var(--fill-color);\n",
              "    }\n",
              "  }\n",
              "</style>\n",
              "\n",
              "  <script>\n",
              "    async function quickchart(key) {\n",
              "      const quickchartButtonEl =\n",
              "        document.querySelector('#' + key + ' button');\n",
              "      quickchartButtonEl.disabled = true;  // To prevent multiple clicks.\n",
              "      quickchartButtonEl.classList.add('colab-df-spinner');\n",
              "      try {\n",
              "        const charts = await google.colab.kernel.invokeFunction(\n",
              "            'suggestCharts', [key], {});\n",
              "      } catch (error) {\n",
              "        console.error('Error during call to suggestCharts:', error);\n",
              "      }\n",
              "      quickchartButtonEl.classList.remove('colab-df-spinner');\n",
              "      quickchartButtonEl.classList.add('colab-df-quickchart-complete');\n",
              "    }\n",
              "    (() => {\n",
              "      let quickchartButtonEl =\n",
              "        document.querySelector('#df-c438f434-7376-47e3-ade1-8319552260bc button');\n",
              "      quickchartButtonEl.style.display =\n",
              "        google.colab.kernel.accessAllowed ? 'block' : 'none';\n",
              "    })();\n",
              "  </script>\n",
              "</div>\n",
              "    </div>\n",
              "  </div>\n"
            ],
            "application/vnd.google.colaboratory.intrinsic+json": {
              "type": "dataframe",
              "variable_name": "df",
              "summary": "{\n  \"name\": \"df\",\n  \"rows\": 6481,\n  \"fields\": [\n    {\n      \"column\": \"Colleague\",\n      \"properties\": {\n        \"dtype\": \"number\",\n        \"std\": 0,\n        \"min\": 0,\n        \"max\": 1,\n        \"num_unique_values\": 2,\n        \"samples\": [\n          0,\n          1\n        ],\n        \"semantic_type\": \"\",\n        \"description\": \"\"\n      }\n    },\n    {\n      \"column\": \"Contacted\",\n      \"properties\": {\n        \"dtype\": \"number\",\n        \"std\": 0,\n        \"min\": 0,\n        \"max\": 1,\n        \"num_unique_values\": 2,\n        \"samples\": [\n          1,\n          0\n        ],\n        \"semantic_type\": \"\",\n        \"description\": \"\"\n      }\n    },\n    {\n      \"column\": \"Spam\",\n      \"properties\": {\n        \"dtype\": \"number\",\n        \"std\": 0,\n        \"min\": 0,\n        \"max\": 1,\n        \"num_unique_values\": 2,\n        \"samples\": [\n          0,\n          1\n        ],\n        \"semantic_type\": \"\",\n        \"description\": \"\"\n      }\n    }\n  ]\n}"
            }
          },
          "metadata": {},
          "execution_count": 16
        }
      ]
    },
    {
      "cell_type": "code",
      "source": [
        "X = df[['Colleague', 'Contacted']]\n",
        "y = df['Spam']"
      ],
      "metadata": {
        "id": "qFSEwmumb60d"
      },
      "execution_count": 17,
      "outputs": []
    },
    {
      "cell_type": "code",
      "source": [
        "# Fit the model\n",
        "model = LogisticRegression()\n",
        "model.fit(X, y)"
      ],
      "metadata": {
        "colab": {
          "base_uri": "https://localhost:8080/",
          "height": 75
        },
        "id": "JxjbxScoa3ga",
        "outputId": "d01a5cea-463e-44b4-ec42-c433a22dc24d"
      },
      "execution_count": 18,
      "outputs": [
        {
          "output_type": "execute_result",
          "data": {
            "text/plain": [
              "LogisticRegression()"
            ],
            "text/html": [
              "<style>#sk-container-id-1 {color: black;background-color: white;}#sk-container-id-1 pre{padding: 0;}#sk-container-id-1 div.sk-toggleable {background-color: white;}#sk-container-id-1 label.sk-toggleable__label {cursor: pointer;display: block;width: 100%;margin-bottom: 0;padding: 0.3em;box-sizing: border-box;text-align: center;}#sk-container-id-1 label.sk-toggleable__label-arrow:before {content: \"▸\";float: left;margin-right: 0.25em;color: #696969;}#sk-container-id-1 label.sk-toggleable__label-arrow:hover:before {color: black;}#sk-container-id-1 div.sk-estimator:hover label.sk-toggleable__label-arrow:before {color: black;}#sk-container-id-1 div.sk-toggleable__content {max-height: 0;max-width: 0;overflow: hidden;text-align: left;background-color: #f0f8ff;}#sk-container-id-1 div.sk-toggleable__content pre {margin: 0.2em;color: black;border-radius: 0.25em;background-color: #f0f8ff;}#sk-container-id-1 input.sk-toggleable__control:checked~div.sk-toggleable__content {max-height: 200px;max-width: 100%;overflow: auto;}#sk-container-id-1 input.sk-toggleable__control:checked~label.sk-toggleable__label-arrow:before {content: \"▾\";}#sk-container-id-1 div.sk-estimator input.sk-toggleable__control:checked~label.sk-toggleable__label {background-color: #d4ebff;}#sk-container-id-1 div.sk-label input.sk-toggleable__control:checked~label.sk-toggleable__label {background-color: #d4ebff;}#sk-container-id-1 input.sk-hidden--visually {border: 0;clip: rect(1px 1px 1px 1px);clip: rect(1px, 1px, 1px, 1px);height: 1px;margin: -1px;overflow: hidden;padding: 0;position: absolute;width: 1px;}#sk-container-id-1 div.sk-estimator {font-family: monospace;background-color: #f0f8ff;border: 1px dotted black;border-radius: 0.25em;box-sizing: border-box;margin-bottom: 0.5em;}#sk-container-id-1 div.sk-estimator:hover {background-color: #d4ebff;}#sk-container-id-1 div.sk-parallel-item::after {content: \"\";width: 100%;border-bottom: 1px solid gray;flex-grow: 1;}#sk-container-id-1 div.sk-label:hover label.sk-toggleable__label {background-color: #d4ebff;}#sk-container-id-1 div.sk-serial::before {content: \"\";position: absolute;border-left: 1px solid gray;box-sizing: border-box;top: 0;bottom: 0;left: 50%;z-index: 0;}#sk-container-id-1 div.sk-serial {display: flex;flex-direction: column;align-items: center;background-color: white;padding-right: 0.2em;padding-left: 0.2em;position: relative;}#sk-container-id-1 div.sk-item {position: relative;z-index: 1;}#sk-container-id-1 div.sk-parallel {display: flex;align-items: stretch;justify-content: center;background-color: white;position: relative;}#sk-container-id-1 div.sk-item::before, #sk-container-id-1 div.sk-parallel-item::before {content: \"\";position: absolute;border-left: 1px solid gray;box-sizing: border-box;top: 0;bottom: 0;left: 50%;z-index: -1;}#sk-container-id-1 div.sk-parallel-item {display: flex;flex-direction: column;z-index: 1;position: relative;background-color: white;}#sk-container-id-1 div.sk-parallel-item:first-child::after {align-self: flex-end;width: 50%;}#sk-container-id-1 div.sk-parallel-item:last-child::after {align-self: flex-start;width: 50%;}#sk-container-id-1 div.sk-parallel-item:only-child::after {width: 0;}#sk-container-id-1 div.sk-dashed-wrapped {border: 1px dashed gray;margin: 0 0.4em 0.5em 0.4em;box-sizing: border-box;padding-bottom: 0.4em;background-color: white;}#sk-container-id-1 div.sk-label label {font-family: monospace;font-weight: bold;display: inline-block;line-height: 1.2em;}#sk-container-id-1 div.sk-label-container {text-align: center;}#sk-container-id-1 div.sk-container {/* jupyter's `normalize.less` sets `[hidden] { display: none; }` but bootstrap.min.css set `[hidden] { display: none !important; }` so we also need the `!important` here to be able to override the default hidden behavior on the sphinx rendered scikit-learn.org. See: https://github.com/scikit-learn/scikit-learn/issues/21755 */display: inline-block !important;position: relative;}#sk-container-id-1 div.sk-text-repr-fallback {display: none;}</style><div id=\"sk-container-id-1\" class=\"sk-top-container\"><div class=\"sk-text-repr-fallback\"><pre>LogisticRegression()</pre><b>In a Jupyter environment, please rerun this cell to show the HTML representation or trust the notebook. <br />On GitHub, the HTML representation is unable to render, please try loading this page with nbviewer.org.</b></div><div class=\"sk-container\" hidden><div class=\"sk-item\"><div class=\"sk-estimator sk-toggleable\"><input class=\"sk-toggleable__control sk-hidden--visually\" id=\"sk-estimator-id-1\" type=\"checkbox\" checked><label for=\"sk-estimator-id-1\" class=\"sk-toggleable__label sk-toggleable__label-arrow\">LogisticRegression</label><div class=\"sk-toggleable__content\"><pre>LogisticRegression()</pre></div></div></div></div></div>"
            ]
          },
          "metadata": {},
          "execution_count": 18
        }
      ]
    },
    {
      "cell_type": "code",
      "source": [
        "# get the coefficients\n",
        "coefficients = model.coef_[0]\n",
        "intercept = model.intercept_[0]\n",
        "feature_names = ['Colleague', 'Contacted']\n",
        "coef_df = pd.DataFrame(coefficients, index=feature_names, columns=['Coefficient'])\n",
        "coef_df.loc['Intercept'] = intercept\n",
        "print(coef_df)"
      ],
      "metadata": {
        "colab": {
          "base_uri": "https://localhost:8080/",
          "height": 0
        },
        "id": "a1Ne4T8PbBT-",
        "outputId": "e2071f3c-8872-4558-cbf7-648e51d0d2a3"
      },
      "execution_count": 19,
      "outputs": [
        {
          "output_type": "stream",
          "name": "stdout",
          "text": [
            "           Coefficient\n",
            "Colleague    -4.103004\n",
            "Contacted    -2.059136\n",
            "Intercept    -0.691370\n"
          ]
        }
      ]
    },
    {
      "cell_type": "markdown",
      "source": [
        "There is a minor difference observed between the values of the coefficients calculated using both the methods, which can be primarily attributed to the fact that one, a different method is being used, and second, L2 regularization is being used in the sklearn implementation. As a background work, we also tried turning off the L2 regularization, which actually resulted in the values of coefficients being almost identical for both methods. Moreover, the convergence criteria for both methods can also affect the final values of the coefficients, such as the tolerance or the maximum number of iterations."
      ],
      "metadata": {
        "id": "KZbRoR9y8_4s"
      }
    },
    {
      "cell_type": "markdown",
      "source": [
        "# 3.4 Confusion Matrix"
      ],
      "metadata": {
        "id": "aBb_7B47cs6k"
      }
    },
    {
      "cell_type": "code",
      "source": [
        "# model prediction\n",
        "y_pred = model.predict(X)"
      ],
      "metadata": {
        "id": "8viD2c7jcsKl"
      },
      "execution_count": 20,
      "outputs": []
    },
    {
      "cell_type": "code",
      "source": [
        "cm = confusion_matrix(y, y_pred)\n",
        "cm_df = pd.DataFrame(cm, index=['Non-Spam', 'Spam'], columns=['Predicted Non-Spam', 'Predicted Spam'])\n",
        "plt.figure(figsize=(8, 6))\n",
        "sns.heatmap(cm_df, annot=True, fmt=\"d\", cmap=\"Blues\", cbar=False)\n",
        "plt.title('Confusion Matrix')\n",
        "plt.ylabel('Actual Label')\n",
        "plt.xlabel('Predicted Label')\n",
        "plt.show()"
      ],
      "metadata": {
        "colab": {
          "base_uri": "https://localhost:8080/",
          "height": 564
        },
        "id": "L9h0i2oYcp01",
        "outputId": "fe9b2617-b4e0-4c82-bfe9-5d7d2f203944"
      },
      "execution_count": 21,
      "outputs": [
        {
          "output_type": "display_data",
          "data": {
            "text/plain": [
              "<Figure size 800x600 with 1 Axes>"
            ],
            "image/png": "[encoded data removed]"
          },
          "metadata": {}
        }
      ]
    },
    {
      "cell_type": "markdown",
      "source": [
        "# 3.5 Metrics"
      ],
      "metadata": {
        "id": "4l3Kh7ROdUry"
      }
    },
    {
      "cell_type": "markdown",
      "source": [
        "**Accuracy**: number of correct predictions (both true positives and true negatives) from the total predictions. A high accuracy doesn't always mean that the model is performing well. It is important to look at other metrics especially if the classes are imbalanced. We get an accuracy of around 82%, but we also have the class imbalance issue. So, this might not be representative.\n",
        "\n",
        "\\begin{equation}\n",
        "Accuracy= (TP+TN+FP+FN) / (TP+TN)\n",
        "\\end{equation}\n",
        "\n",
        "\n",
        "**Recall**: how many of the actual positives are correctly identified. Our model has a recall of 0 since it predicts the negative class (non-spam) in all the cases (TP is zero).\n",
        "\n",
        "\n",
        "\\begin{equation}\n",
        "Recall = (TP) / (TP+FN)\n",
        "\\end{equation}\n",
        "\n",
        "**Precision**: how many of the predictions are actually correct. Our model has also a precision of 0 since it predicts the negative class (non-spam) in all the cases.\n",
        "\n",
        "\n",
        "\\begin{equation}\n",
        "Precision = (TP) / (TP+FP)\n",
        "\\end{equation}\n",
        "\n",
        "**F1 Score**: The harmonic mean of Precision and Recall, providing a balance between the two in cases where one may be significantly higher than the other. 0 since precision and recall is 0.\n",
        "\n",
        "\\begin{equation}\n",
        "F1 = 2(precision * recall ) / (precision+recall)\n",
        "\\end{equation}\n",
        "\n",
        "\n"
      ],
      "metadata": {
        "id": "2RET1jJsdxAu"
      }
    },
    {
      "cell_type": "code",
      "source": [
        "accuracy = accuracy_score(y, y_pred)\n",
        "recall = recall_score(y, y_pred, zero_division=0)\n",
        "precision = precision_score(y, y_pred, zero_division=0)\n",
        "f1 = f1_score(y, y_pred, zero_division=0)\n",
        "\n",
        "print(\"Accuracy:\", accuracy)\n",
        "print(\"Recall:\", recall)\n",
        "print(\"Precision:\", precision)\n",
        "print(\"F1 Score:\", f1)"
      ],
      "metadata": {
        "colab": {
          "base_uri": "https://localhost:8080/",
          "height": 0
        },
        "id": "fjpPi0jgdURq",
        "outputId": "a6d1f87c-feba-47ea-b8d5-478a8c28a38f"
      },
      "execution_count": 22,
      "outputs": [
        {
          "output_type": "stream",
          "name": "stdout",
          "text": [
            "Accuracy: 0.8290387285912668\n",
            "Recall: 0.0\n",
            "Precision: 0.0\n",
            "F1 Score: 0.0\n"
          ]
        }
      ]
    },
    {
      "cell_type": "markdown",
      "source": [
        "# 3.6 Trustworthiness"
      ],
      "metadata": {
        "id": "XBUWFFA3D7Qb"
      }
    },
    {
      "cell_type": "code",
      "source": [
        "from imblearn.over_sampling import SMOTE\n",
        "smote = SMOTE(random_state=42)\n",
        "X_res, y_res = smote.fit_resample(X, y)\n",
        "\n",
        "model = LogisticRegression()\n",
        "model.fit(X_res, y_res)\n",
        "y_pred_res = model.predict(X_res)\n",
        "\n",
        "accuracy_res = accuracy_score(y_res, y_pred_res)\n",
        "recall_res = recall_score(y_res, y_pred_res)\n",
        "precision_res = precision_score(y_res, y_pred_res)\n",
        "f1_res = f1_score(y_res, y_pred_res)\n",
        "print(\"Accuracy:\", accuracy_res)\n",
        "print(\"Recall:\", recall_res)\n",
        "print(\"Precision:\", precision_res)\n",
        "print(\"F1 Score:\", f1_res)"
      ],
      "metadata": {
        "colab": {
          "base_uri": "https://localhost:8080/",
          "height": 0
        },
        "id": "ZS0zdU8mgEB3",
        "outputId": "8950ee50-e1bc-47f4-d46e-db8497c77a75"
      },
      "execution_count": 23,
      "outputs": [
        {
          "output_type": "stream",
          "name": "stdout",
          "text": [
            "Accuracy: 0.7700539735715615\n",
            "Recall: 0.9078726968174204\n",
            "Precision: 0.711701196381675\n",
            "F1 Score: 0.7979062730023717\n"
          ]
        }
      ]
    },
    {
      "cell_type": "markdown",
      "source": [
        "Looking at the frequency table, it can be easily observed that the data is imbalanced, i.e., around 5000 from the not-spam class and only 1100 from the spam class. This issue gets reflected in the above trained logistic regression model.\n",
        "\n",
        "If we just look at the accuracy of the model (>80%), the model looks quite decent and trustworthy, which is quite misleading at the first sight. Upon looking into more details such as confusion matrix, it can be seen that the model is heavily biased towards the non-spam class. In fact, it classifies each sample as a non-spam, but due to the imbalance, we nevertheless get a very high accuracy.\n",
        "\n",
        "In reality, the model is not trustworthy and fails to predict the email as spam or not. This could be because regression models rely on the mean and standard deviation. When dealing with skewed data, the mean can be deceptive as the most frequent values in the distribution might not align closely with the mean.\n",
        "\n",
        "Moreover, the given data only checks the sender of the email, i.e., whether it has been sent by colleague, previously contacted person, or neither. It doesn't look into the content of the email, for example, use of certain words, incorrect grammar etc.\n",
        "\n",
        "\n",
        "**Possible Solutions**\n",
        "\n",
        "The model can be improved by addressing the class imbalance issue. For example, oversampling of the minority class using SMOTE (Synthetic Minority Oversampling Technique). This was done as an extra work and it can be observed that the model now performs better by not identifying all samples as non-spam. Another solution could be lowering the threshold from the default 0.5 to classify positive/negative samples. However, this could increase false positives.\n",
        "\n",
        "**Strengths & Weaknesses**\n",
        "\n",
        "While the approach certainly has multiple strengths like being very easy to implement and interpret, and also providing a probabilistic outcome which can be quite helpful in thresholding, it clearly lacks the complexity to provide decent results when there are issues like class imbalance. Being able to produce decent results despite class imbalance is important because in most of the practical use cases, class imbalance is present. Moreover, it can be quite prone to overfitting, as was the case in this use case."
      ],
      "metadata": {
        "id": "L4L97-DE-nNG"
      }
    }
  ]
}