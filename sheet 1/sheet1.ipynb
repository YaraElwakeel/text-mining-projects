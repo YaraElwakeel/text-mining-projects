{
 "cells": [
  {
   "cell_type": "code",
   "execution_count": 1,
   "metadata": {},
   "outputs": [
    {
     "name": "stderr",
     "output_type": "stream",
     "text": [
      "[nltk_data] Downloading package wordnet to\n",
      "[nltk_data]     C:\\Users\\yarae\\AppData\\Roaming\\nltk_data...\n",
      "[nltk_data]   Package wordnet is already up-to-date!\n"
     ]
    },
    {
     "data": {
      "text/plain": [
       "True"
      ]
     },
     "execution_count": 1,
     "metadata": {},
     "output_type": "execute_result"
    }
   ],
   "source": [
    "from nltk import *\n",
    "download('wordnet')\n"
   ]
  },
  {
   "cell_type": "markdown",
   "metadata": {},
   "source": [
    "# 1. Preprocessing "
   ]
  },
  {
   "cell_type": "markdown",
   "metadata": {},
   "source": [
    "1.2 Implementation "
   ]
  },
  {
   "cell_type": "markdown",
   "metadata": {},
   "source": [
    "nltk.word_tokenize()<br> \n",
    "operates by breaking down a given text into individual tokens, where each token represents either a word or a punctuation mark. It uses language-specific rules and patterns to identify boundaries between words and punctuation marks, segmenting the input text into a list of tokens\n",
    "\n",
    "nltk.sent_tokenize()<br> \n",
    "The sent_tokenize function uses an instance of PunktSentenceTokenizer from the nltk.tokenize.punkt module, which is pretrained and thus very well knows to \n",
    "identify the boundaries of sentences in a given text using what characters and punctuation.  \n",
    "\n",
    "nlkt.WordNetLemmatizaer()<br>\n",
    "The WordNetLemmatizer uses the WordNet lexical database to find the lemma of a word. WordNet contains a large corpus of words and their relationships, including synonyms, hypernyms, hyponyms, and other linguistic information.\n",
    "\n",
    "nltk.corpus.stopwords()<br>\n",
    "is a function provided by the NLTK library that returns a set of commonly used stopwords for the English language"
   ]
  },
  {
   "cell_type": "code",
   "execution_count": 4,
   "metadata": {},
   "outputs": [
    {
     "name": "stdout",
     "output_type": "stream",
     "text": [
      "[['nltk', 'leading', 'platform', '.'], ['building', 'python', 'program', 'work', 'human', 'language', 'data', '.'], ['provides', 'easy-to-use', 'interface', '50', 'corpus', 'lexical', 'resource', 'wordnet', ',', 'along', 'suite', 'text', 'processing', 'library', 'classification', ',', 'tokenization', ',', 'stemming', ',', 'tagging', ',', 'parsing', ',', 'semantic', 'reasoning', ',', 'wrapper', 'industrial-strength', 'nlp', 'library', '.']]\n"
     ]
    }
   ],
   "source": [
    "def process_paragraph(paragraph):\n",
    "    # split the paragraph into sentences. \n",
    "    split_sent = tokenize.sent_tokenize(paragraph)\n",
    "    \n",
    "\n",
    "    # initialize wordNet lemmatizer\n",
    "    wnl = WordNetLemmatizer()\n",
    "    # get english stopwords \n",
    "    stopwords = set(corpus.stopwords.words('english'))\n",
    "    proc_sent = []\n",
    "    \n",
    "    for sent in split_sent:\n",
    "        # applies word tokenization \n",
    "        tokens = word_tokenize(sent.lower())\n",
    "\n",
    "         # apply lemmetaization on all words \n",
    "        lemma  = [wnl.lemmatize(t) for t in tokens]\n",
    "        \n",
    "        # remove stopewords from the predefined set of stopwords \n",
    "        re_st =  [l for l in lemma if l not in stopwords]\n",
    "\n",
    "        proc_sent.append(re_st)\n",
    "\n",
    "\n",
    "    return proc_sent\n",
    "\n",
    "proc_sent = process_paragraph('NLTK is a leading platform. for building Python programs to work with human language data. It provides easy-to-use interfaces to over 50 corpora and lexical resources such as WordNet, along with a suite of text processing libraries for classification, tokenization, stemming, tagging, parsing, and semantic reasoning, wrappers for industrial-strength NLP libraries.')\n",
    "print(proc_sent)"
   ]
  }
 ],
 "metadata": {
  "kernelspec": {
   "display_name": "Python 3",
   "language": "python",
   "name": "python3"
  },
  "language_info": {
   "codemirror_mode": {
    "name": "ipython",
    "version": 3
   },
   "file_extension": ".py",
   "mimetype": "text/x-python",
   "name": "python",
   "nbconvert_exporter": "python",
   "pygments_lexer": "ipython3",
   "version": "3.12.2"
  }
 },
 "nbformat": 4,
 "nbformat_minor": 2
}
