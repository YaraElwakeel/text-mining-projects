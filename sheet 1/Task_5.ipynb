{
  "nbformat": 4,
  "nbformat_minor": 0,
  "metadata": {
    "colab": {
      "provenance": [],
      "gpuType": "T4"
    },
    "kernelspec": {
      "name": "python3",
      "display_name": "Python 3"
    },
    "language_info": {
      "name": "python"
    },
    "accelerator": "GPU"
  },
  "cells": [
    {
      "cell_type": "code",
      "source": [
        "import os\n",
        "import pandas as pd\n",
        "import tarfile\n",
        "import urllib.request\n",
        "from sklearn.feature_extraction.text import TfidfVectorizer, CountVectorizer\n",
        "from sklearn.linear_model import LogisticRegression\n",
        "from sklearn.metrics import accuracy_score\n",
        "from sklearn.neighbors import KNeighborsClassifier\n",
        "import nltk\n",
        "from nltk.corpus import stopwords\n",
        "from nltk.tokenize import word_tokenize\n",
        "\n",
        "# Ensure the required NLTK resources are available\n",
        "nltk.download('stopwords')\n",
        "nltk.download('punkt')"
      ],
      "metadata": {
        "colab": {
          "base_uri": "https://localhost:8080/"
        },
        "id": "EiiP_BWpcaKb",
        "outputId": "9109513d-e9ec-459c-d657-6f80c616e1fe"
      },
      "execution_count": 3,
      "outputs": [
        {
          "output_type": "stream",
          "name": "stderr",
          "text": [
            "[nltk_data] Downloading package stopwords to /root/nltk_data...\n",
            "[nltk_data]   Package stopwords is already up-to-date!\n",
            "[nltk_data] Downloading package punkt to /root/nltk_data...\n",
            "[nltk_data]   Package punkt is already up-to-date!\n"
          ]
        },
        {
          "output_type": "execute_result",
          "data": {
            "text/plain": [
              "True"
            ]
          },
          "metadata": {},
          "execution_count": 3
        }
      ]
    },
    {
      "cell_type": "code",
      "execution_count": 4,
      "metadata": {
        "id": "imWlftojaM5-"
      },
      "outputs": [],
      "source": [
        "# Download and extract the IMDb dataset\n",
        "url = \"http://ai.stanford.edu/~amaas/data/sentiment/aclImdb_v1.tar.gz\"\n",
        "dataset_path = \"/content/aclImdb_v1.tar.gz\"\n",
        "urllib.request.urlretrieve(url, dataset_path)\n",
        "\n",
        "with tarfile.open(dataset_path) as tar:\n",
        "    tar.extractall(path=\"/content/\")\n",
        "\n",
        "# Function to read data from the extracted files\n",
        "def read_imdb_data(data_dir='/content/aclImdb'):\n",
        "    data = {'train': {}, 'test': {}}\n",
        "    labels = {'train': {}, 'test': {}}\n",
        "\n",
        "    for data_type in ['train', 'test']:\n",
        "        for sentiment in ['pos', 'neg']:\n",
        "            path = os.path.join(data_dir, data_type, sentiment)\n",
        "            reviews = []\n",
        "            sentiment_labels = []\n",
        "\n",
        "            for file_name in os.listdir(path):\n",
        "                with open(os.path.join(path, file_name), 'r', encoding='utf-8') as file:\n",
        "                    reviews.append(file.read())\n",
        "                    sentiment_labels.append(1 if sentiment == 'pos' else 0)\n",
        "\n",
        "            data[data_type][sentiment] = pd.DataFrame({\n",
        "                'review': reviews,\n",
        "                'sentiment': sentiment_labels\n",
        "            })\n",
        "\n",
        "        data[data_type] = pd.concat([data[data_type]['pos'], data[data_type]['neg']], ignore_index=True)\n",
        "\n",
        "    return data['train'], data['test']\n",
        "\n",
        "train_data, test_data = read_imdb_data()\n"
      ]
    },
    {
      "cell_type": "code",
      "source": [
        "# Preprocess the text data\n",
        "stop_words = set(stopwords.words('english'))\n",
        "\n",
        "def preprocess(text):\n",
        "    tokens = word_tokenize(text.lower())\n",
        "    filtered_tokens = [word for word in tokens if word.isalnum() and not word in stop_words]\n",
        "    return ' '.join(filtered_tokens)\n",
        "\n",
        "train_data['review'] = train_data['review'].apply(preprocess)\n",
        "test_data['review'] = test_data['review'].apply(preprocess)"
      ],
      "metadata": {
        "id": "ONyuQ5zgb_Jb"
      },
      "execution_count": 5,
      "outputs": []
    },
    {
      "cell_type": "code",
      "source": [
        "# Vectorize the text data\n",
        "tfidf_vectorizer = TfidfVectorizer()\n",
        "bow_vectorizer = CountVectorizer()\n",
        "\n",
        "X_train_tfidf = tfidf_vectorizer.fit_transform(train_data['review'])\n",
        "X_train_bow = bow_vectorizer.fit_transform(train_data['review'])\n",
        "\n",
        "X_test_tfidf = tfidf_vectorizer.transform(test_data['review'])\n",
        "X_test_bow = bow_vectorizer.transform(test_data['review'])"
      ],
      "metadata": {
        "id": "kkzoS-IOcJjk"
      },
      "execution_count": 6,
      "outputs": []
    },
    {
      "cell_type": "code",
      "source": [
        "# Train logistic regression models\n",
        "model_tfidf = LogisticRegression(max_iter=1000)\n",
        "model_bow = LogisticRegression(max_iter=1000)\n",
        "\n",
        "model_tfidf.fit(X_train_tfidf, train_data['sentiment'])\n",
        "model_bow.fit(X_train_bow, train_data['sentiment'])"
      ],
      "metadata": {
        "colab": {
          "base_uri": "https://localhost:8080/",
          "height": 75
        },
        "id": "o-DiBBwwdSJ4",
        "outputId": "dd516b75-715b-4619-ac1c-10de00e2cd00"
      },
      "execution_count": 7,
      "outputs": [
        {
          "output_type": "execute_result",
          "data": {
            "text/plain": [
              "LogisticRegression(max_iter=1000)"
            ],
            "text/html": [
              "<style>#sk-container-id-1 {color: black;background-color: white;}#sk-container-id-1 pre{padding: 0;}#sk-container-id-1 div.sk-toggleable {background-color: white;}#sk-container-id-1 label.sk-toggleable__label {cursor: pointer;display: block;width: 100%;margin-bottom: 0;padding: 0.3em;box-sizing: border-box;text-align: center;}#sk-container-id-1 label.sk-toggleable__label-arrow:before {content: \"▸\";float: left;margin-right: 0.25em;color: #696969;}#sk-container-id-1 label.sk-toggleable__label-arrow:hover:before {color: black;}#sk-container-id-1 div.sk-estimator:hover label.sk-toggleable__label-arrow:before {color: black;}#sk-container-id-1 div.sk-toggleable__content {max-height: 0;max-width: 0;overflow: hidden;text-align: left;background-color: #f0f8ff;}#sk-container-id-1 div.sk-toggleable__content pre {margin: 0.2em;color: black;border-radius: 0.25em;background-color: #f0f8ff;}#sk-container-id-1 input.sk-toggleable__control:checked~div.sk-toggleable__content {max-height: 200px;max-width: 100%;overflow: auto;}#sk-container-id-1 input.sk-toggleable__control:checked~label.sk-toggleable__label-arrow:before {content: \"▾\";}#sk-container-id-1 div.sk-estimator input.sk-toggleable__control:checked~label.sk-toggleable__label {background-color: #d4ebff;}#sk-container-id-1 div.sk-label input.sk-toggleable__control:checked~label.sk-toggleable__label {background-color: #d4ebff;}#sk-container-id-1 input.sk-hidden--visually {border: 0;clip: rect(1px 1px 1px 1px);clip: rect(1px, 1px, 1px, 1px);height: 1px;margin: -1px;overflow: hidden;padding: 0;position: absolute;width: 1px;}#sk-container-id-1 div.sk-estimator {font-family: monospace;background-color: #f0f8ff;border: 1px dotted black;border-radius: 0.25em;box-sizing: border-box;margin-bottom: 0.5em;}#sk-container-id-1 div.sk-estimator:hover {background-color: #d4ebff;}#sk-container-id-1 div.sk-parallel-item::after {content: \"\";width: 100%;border-bottom: 1px solid gray;flex-grow: 1;}#sk-container-id-1 div.sk-label:hover label.sk-toggleable__label {background-color: #d4ebff;}#sk-container-id-1 div.sk-serial::before {content: \"\";position: absolute;border-left: 1px solid gray;box-sizing: border-box;top: 0;bottom: 0;left: 50%;z-index: 0;}#sk-container-id-1 div.sk-serial {display: flex;flex-direction: column;align-items: center;background-color: white;padding-right: 0.2em;padding-left: 0.2em;position: relative;}#sk-container-id-1 div.sk-item {position: relative;z-index: 1;}#sk-container-id-1 div.sk-parallel {display: flex;align-items: stretch;justify-content: center;background-color: white;position: relative;}#sk-container-id-1 div.sk-item::before, #sk-container-id-1 div.sk-parallel-item::before {content: \"\";position: absolute;border-left: 1px solid gray;box-sizing: border-box;top: 0;bottom: 0;left: 50%;z-index: -1;}#sk-container-id-1 div.sk-parallel-item {display: flex;flex-direction: column;z-index: 1;position: relative;background-color: white;}#sk-container-id-1 div.sk-parallel-item:first-child::after {align-self: flex-end;width: 50%;}#sk-container-id-1 div.sk-parallel-item:last-child::after {align-self: flex-start;width: 50%;}#sk-container-id-1 div.sk-parallel-item:only-child::after {width: 0;}#sk-container-id-1 div.sk-dashed-wrapped {border: 1px dashed gray;margin: 0 0.4em 0.5em 0.4em;box-sizing: border-box;padding-bottom: 0.4em;background-color: white;}#sk-container-id-1 div.sk-label label {font-family: monospace;font-weight: bold;display: inline-block;line-height: 1.2em;}#sk-container-id-1 div.sk-label-container {text-align: center;}#sk-container-id-1 div.sk-container {/* jupyter's `normalize.less` sets `[hidden] { display: none; }` but bootstrap.min.css set `[hidden] { display: none !important; }` so we also need the `!important` here to be able to override the default hidden behavior on the sphinx rendered scikit-learn.org. See: https://github.com/scikit-learn/scikit-learn/issues/21755 */display: inline-block !important;position: relative;}#sk-container-id-1 div.sk-text-repr-fallback {display: none;}</style><div id=\"sk-container-id-1\" class=\"sk-top-container\"><div class=\"sk-text-repr-fallback\"><pre>LogisticRegression(max_iter=1000)</pre><b>In a Jupyter environment, please rerun this cell to show the HTML representation or trust the notebook. <br />On GitHub, the HTML representation is unable to render, please try loading this page with nbviewer.org.</b></div><div class=\"sk-container\" hidden><div class=\"sk-item\"><div class=\"sk-estimator sk-toggleable\"><input class=\"sk-toggleable__control sk-hidden--visually\" id=\"sk-estimator-id-1\" type=\"checkbox\" checked><label for=\"sk-estimator-id-1\" class=\"sk-toggleable__label sk-toggleable__label-arrow\">LogisticRegression</label><div class=\"sk-toggleable__content\"><pre>LogisticRegression(max_iter=1000)</pre></div></div></div></div></div>"
            ]
          },
          "metadata": {},
          "execution_count": 7
        }
      ]
    },
    {
      "cell_type": "code",
      "source": [
        "# Make predictions and evaluate the models\n",
        "y_pred_tfidf = model_tfidf.predict(X_test_tfidf)\n",
        "y_pred_bow = model_bow.predict(X_test_bow)\n",
        "\n",
        "accuracy_tfidf = accuracy_score(test_data['sentiment'], y_pred_tfidf)\n",
        "accuracy_bow = accuracy_score(test_data['sentiment'], y_pred_bow)\n",
        "\n",
        "print(\"Accuracy with TF-IDF:\", accuracy_tfidf)\n",
        "print(\"Accuracy with BoW:\", accuracy_bow)"
      ],
      "metadata": {
        "colab": {
          "base_uri": "https://localhost:8080/"
        },
        "id": "c7UMe1XMh5Az",
        "outputId": "9198ca13-e97b-4b20-ed93-b8837e52f9d9"
      },
      "execution_count": 8,
      "outputs": [
        {
          "output_type": "stream",
          "name": "stdout",
          "text": [
            "Accuracy with TF-IDF: 0.88228\n",
            "Accuracy with BoW: 0.86164\n"
          ]
        }
      ]
    },
    {
      "cell_type": "code",
      "source": [
        "# Train and evaluate a KNN classifier\n",
        "knn_tfidf = KNeighborsClassifier(n_neighbors=3)\n",
        "knn_tfidf.fit(X_train_tfidf, train_data['sentiment'])\n",
        "y_pred_knn_tfidf = knn_tfidf.predict(X_test_tfidf)\n",
        "accuracy_knn_tfidf = accuracy_score(test_data['sentiment'], y_pred_knn_tfidf)\n",
        "\n",
        "print(\"Accuracy with KNN (k=3) using TF-IDF:\", accuracy_knn_tfidf)"
      ],
      "metadata": {
        "id": "dprIZ_mMh7Sr",
        "colab": {
          "base_uri": "https://localhost:8080/"
        },
        "outputId": "763501d0-dd35-4563-8add-02497fd11f97"
      },
      "execution_count": 9,
      "outputs": [
        {
          "output_type": "stream",
          "name": "stdout",
          "text": [
            "Accuracy with KNN (k=3) using TF-IDF: 0.62864\n"
          ]
        }
      ]
    }
  ]
}